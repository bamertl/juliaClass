{
 "cells": [
  {
   "cell_type": "markdown",
   "metadata": {},
   "source": [
    "# Exam 1, Julia Course 2023\n",
    "\n",
    "## Load Packages and printmat"
   ]
  },
  {
   "cell_type": "code",
   "execution_count": 5,
   "metadata": {},
   "outputs": [
    {
     "data": {
      "text/plain": [
       "printyellow (generic function with 1 method)"
      ]
     },
     "metadata": {},
     "output_type": "display_data"
    }
   ],
   "source": [
    "using Printf, Dates, Statistics, JLD2, Plots\n",
    "include(\"jlFiles/printmat.jl\")"
   ]
  },
  {
   "cell_type": "markdown",
   "metadata": {},
   "source": [
    "## Load Data and Calculate Returns\n",
    "\n",
    "from the jld2 file Fx5min.jld2. You want the `dN` (vector of julia DateTimes, eg `2020-01-01T00:05:00`) and `USD_EUR` (vector with the exchange rate: the number of USD you pay for 1 EUR). The data are 5 minute data so there are 288 elements per day for each day 2000-2022. There are 315,648 observations.\n",
    "\n",
    "Calculate a vector of log returns, that is `log(price/price 5 minute earlier)`."
   ]
  },
  {
   "cell_type": "code",
   "execution_count": 8,
   "metadata": {},
   "outputs": [
    {
     "data": {
      "text/plain": [
       "KeySet for a Dict{String, Any} with 2 entries. Keys:\n",
       "  \"USD_EUR\"\n",
       "  \"dN\""
      ]
     },
     "metadata": {},
     "output_type": "display_data"
    }
   ],
   "source": [
    "# Load the file into a variable\n",
    "file_data = load(\"./Fx5min/Fx5min.jld2\")\n",
    "\n",
    "# List all variables in the file\n",
    "keys(file_data)"
   ]
  },
  {
   "cell_type": "markdown",
   "metadata": {},
   "source": [
    "# Estimate the Std for each Hour\n",
    "\n",
    "Extract all data points that refer to a time between 00:00 (midnight) and 00:59 (just before 1 o'clock in the night). Estimate the standard deviation of the returns. Repeat for 01:00 and 01:59, etc. Plot the results (multiplied by `10_000`.) with the hour on the horizontal axis. (Hint: `hour(a DateTime) == 0`."
   ]
  },
  {
   "cell_type": "code",
   "execution_count": null,
   "metadata": {},
   "outputs": [],
   "source": []
  },
  {
   "cell_type": "markdown",
   "metadata": {},
   "source": [
    "# Estimate Autoregressions for each Day of Data\n",
    "\n",
    "Consider the regression\n",
    "\n",
    "$r_t = a + b r_{t-1} + \\epsilon_t$,\n",
    "\n",
    "where $r_t$ is a 5-minute return and $r_{t-1}$ is the previous 5-minute return.\n",
    "\n",
    "Extract data for day 1, estimate the regression and save the estimate of $b$. Redo for day 2, etc.  (Hint:`unique(Date.(vector of DateTimes)).` It's OK if the regressor $r_{t-1}$ includes the observation from 23:55 the day before.  \n",
    "\n",
    "Create a moving average over `b` for the current and previous 5 days. Plot the `b` estimates against dates (on the horizonztal axis) as well as the moving average (in the same plot) "
   ]
  },
  {
   "cell_type": "code",
   "execution_count": null,
   "metadata": {},
   "outputs": [],
   "source": []
  },
  {
   "cell_type": "code",
   "execution_count": null,
   "metadata": {},
   "outputs": [],
   "source": []
  },
  {
   "cell_type": "markdown",
   "metadata": {},
   "source": [
    "# Plot a Histogram of the `b` Estimates"
   ]
  },
  {
   "cell_type": "code",
   "execution_count": null,
   "metadata": {},
   "outputs": [],
   "source": []
  },
  {
   "cell_type": "code",
   "execution_count": null,
   "metadata": {},
   "outputs": [],
   "source": []
  }
 ],
 "metadata": {
  "kernelspec": {
   "display_name": "Julia 1.9.3",
   "language": "julia",
   "name": "julia-1.9"
  },
  "language_info": {
   "file_extension": ".jl",
   "mimetype": "application/julia",
   "name": "julia",
   "version": "1.9.3"
  }
 },
 "nbformat": 4,
 "nbformat_minor": 4
}
